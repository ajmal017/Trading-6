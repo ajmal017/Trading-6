{
 "cells": [
  {
   "cell_type": "code",
   "execution_count": 7,
   "metadata": {},
   "outputs": [],
   "source": [
    "class BS_pricer():\n",
    "    @staticmethod\n",
    "    def BlackScholes(payoff='call', S0=100., K=100., T=1., r=0.1, sigma=0.2 ):  \n",
    "        d1 = (np.log(S0/K) + (r + sigma**2 / 2) * T) / (sigma * np.sqrt(T))\n",
    "        d2 = (np.log(S0/K) + (r - sigma**2 / 2) * T) / (sigma * np.sqrt(T))\n",
    "\n",
    "        if payoff==\"call\":\n",
    "            return S0 * ss.norm.cdf( d1 ) - K * np.exp(-r * T) * ss.norm.cdf( d2 )\n",
    "        elif payoff==\"put\":\n",
    "            return K * np.exp(-r * T) * ss.norm.cdf( -d2 ) - S0 * ss.norm.cdf( -d1 )\n",
    "        else:\n",
    "            raise ValueError(\"invalid type. Set 'call' or 'put'\")"
   ]
  },
  {
   "cell_type": "code",
   "execution_count": 8,
   "metadata": {
    "scrolled": true
   },
   "outputs": [],
   "source": [
    "import numpy as np\n",
    "import scipy as scp\n",
    "import scipy.stats as ss\n",
    "from scipy.integrate import quad\n",
    "from functools import partial\n",
    "import yfinance as yf\n",
    "import matplotlib.pyplot as plt\n",
    "%matplotlib inline\n",
    "from datetime import datetime\n",
    "from datetime import date"
   ]
  },
  {
   "cell_type": "code",
   "execution_count": 13,
   "metadata": {},
   "outputs": [
    {
     "name": "stdout",
     "output_type": "stream",
     "text": [
      "         contractSymbol       lastTradeDate  strike  lastPrice  bid  ask  \\\n",
      "0   MSFT200828P00180000 2020-07-14 18:58:28   180.0       2.79  0.0  0.0   \n",
      "1   MSFT200828P00185000 2020-07-14 19:39:57   185.0       3.54  0.0  0.0   \n",
      "2   MSFT200828P00187500 2020-07-14 19:27:09   187.5       4.35  0.0  0.0   \n",
      "3   MSFT200828P00190000 2020-07-14 19:18:31   190.0       4.75  0.0  0.0   \n",
      "4   MSFT200828P00192500 2020-07-14 18:18:21   192.5       5.85  0.0  0.0   \n",
      "5   MSFT200828P00195000 2020-07-14 19:46:22   195.0       6.35  0.0  0.0   \n",
      "6   MSFT200828P00197500 2020-07-14 19:49:18   197.5       7.40  0.0  0.0   \n",
      "7   MSFT200828P00200000 2020-07-14 18:54:19   200.0       8.55  0.0  0.0   \n",
      "8   MSFT200828P00202500 2020-07-14 19:45:54   202.5       9.36  0.0  0.0   \n",
      "9   MSFT200828P00205000 2020-07-14 19:39:57   205.0      10.57  0.0  0.0   \n",
      "10  MSFT200828P00207500 2020-07-14 19:46:22   207.5      11.55  0.0  0.0   \n",
      "11  MSFT200828P00210000 2020-07-14 17:47:39   210.0      13.26  0.0  0.0   \n",
      "12  MSFT200828P00212500 2020-07-14 17:47:52   212.5      14.55  0.0  0.0   \n",
      "13  MSFT200828P00215000 2020-07-14 19:50:03   215.0      15.82  0.0  0.0   \n",
      "14  MSFT200828P00217500 2020-07-10 19:30:00   217.5      13.25  0.0  0.0   \n",
      "15  MSFT200828P00220000 2020-07-13 16:20:59   220.0      13.75  0.0  0.0   \n",
      "16  MSFT200828P00222500 2020-07-10 15:14:33   222.5      17.05  0.0  0.0   \n",
      "17  MSFT200828P00225000 2020-07-10 15:14:33   225.0      18.67  0.0  0.0   \n",
      "18  MSFT200828P00240000 2020-07-14 17:33:29   240.0      35.44  0.0  0.0   \n",
      "\n",
      "    change  percentChange  volume  openInterest  impliedVolatility  \\\n",
      "0      0.0            0.0    22.0           0.0           0.125009   \n",
      "1      0.0            0.0    11.0           0.0           0.062509   \n",
      "2      0.0            0.0   129.0           0.0           0.062509   \n",
      "3      0.0            0.0    66.0           0.0           0.062509   \n",
      "4      0.0            0.0    38.0           0.0           0.062509   \n",
      "5      0.0            0.0    17.0           0.0           0.031260   \n",
      "6      0.0            0.0    19.0           0.0           0.031260   \n",
      "7      0.0            0.0   108.0           0.0           0.031260   \n",
      "8      0.0            0.0     NaN           0.0           0.015635   \n",
      "9      0.0            0.0    74.0           0.0           0.015635   \n",
      "10     0.0            0.0    12.0           0.0           0.003916   \n",
      "11     0.0            0.0    24.0           0.0           0.000010   \n",
      "12     0.0            0.0     9.0           0.0           0.000010   \n",
      "13     0.0            0.0     5.0           0.0           0.000010   \n",
      "14     0.0            0.0    50.0           0.0           0.000010   \n",
      "15     0.0            0.0    12.0           0.0           0.000010   \n",
      "16     0.0            0.0     1.0           0.0           0.000010   \n",
      "17     0.0            0.0     1.0           0.0           0.000010   \n",
      "18     0.0            0.0     NaN           NaN           0.000010   \n",
      "\n",
      "    inTheMoney contractSize currency  \n",
      "0        False      REGULAR      USD  \n",
      "1        False      REGULAR      USD  \n",
      "2        False      REGULAR      USD  \n",
      "3        False      REGULAR      USD  \n",
      "4        False      REGULAR      USD  \n",
      "5        False      REGULAR      USD  \n",
      "6        False      REGULAR      USD  \n",
      "7        False      REGULAR      USD  \n",
      "8        False      REGULAR      USD  \n",
      "9        False      REGULAR      USD  \n",
      "10       False      REGULAR      USD  \n",
      "11        True      REGULAR      USD  \n",
      "12        True      REGULAR      USD  \n",
      "13        True      REGULAR      USD  \n",
      "14        True      REGULAR      USD  \n",
      "15        True      REGULAR      USD  \n",
      "16        True      REGULAR      USD  \n",
      "17        True      REGULAR      USD  \n",
      "18        True      REGULAR      USD  \n"
     ]
    }
   ],
   "source": [
    "now = datetime.today().strftime('%Y:%m:%d')\n",
    "d1 = datetime.strptime(now, '%Y:%m:%d')\n",
    "stk = yf.Ticker(\"MSFT\")\n",
    "expiry = stk.options[6]         #expiry date choice\n",
    "opt = stk.option_chain(expiry)  #selecting that option based on expiry date                         \n",
    "low = opt.calls.iloc[10]          #selecting specific call\n",
    "low1 = opt.puts.iloc[10]          #selecting specific put\n",
    "d2 = datetime.strptime(expiry, '%Y-%m-%d')\n",
    "diff = (d2 - d1).days\n",
    "print(opt.puts)"
   ]
  },
  {
   "cell_type": "code",
   "execution_count": 10,
   "metadata": {},
   "outputs": [],
   "source": [
    "S0 = stk.info['open']\n",
    "K= low.loc['strike']    # strike\n",
    "T= diff/365      # maturity \n",
    "r= 0.011       # risk free rate \n",
    "sig = low.loc['impliedVolatility'] \n",
    "call = BS_pricer.BlackScholes(\"call\",S0,K,T,r,sig) "
   ]
  },
  {
   "cell_type": "code",
   "execution_count": 11,
   "metadata": {},
   "outputs": [
    {
     "name": "stdout",
     "output_type": "stream",
     "text": [
      "Call price:  0.0\n",
      "Put price:  0.0556014373362288\n"
     ]
    }
   ],
   "source": [
    "S0 = stk.info['open']\n",
    "K= low1.loc['strike']    # strike\n",
    "T= diff/365      # maturity \n",
    "r= 0.011       # risk free rate \n",
    "sig = low1.loc['impliedVolatility'] \n",
    "put = BS_pricer.BlackScholes(\"put\",S0,K,T,r,sig) \n",
    "print(\"Call price: \", call )  \n",
    "print(\"Put price: \", put ) "
   ]
  },
  {
   "cell_type": "code",
   "execution_count": 12,
   "metadata": {},
   "outputs": [
    {
     "name": "stdout",
     "output_type": "stream",
     "text": [
      "Difference between model and actual (call):  11.6\n",
      "Difference between model and actual (put):  10.514398562663771\n"
     ]
    }
   ],
   "source": [
    "print(\"Difference between model and actual (call): \", (low.loc['lastPrice'] - call))\n",
    "print(\"Difference between model and actual (put): \", (low1.loc['lastPrice'] - put))"
   ]
  },
  {
   "cell_type": "code",
   "execution_count": null,
   "metadata": {},
   "outputs": [],
   "source": []
  },
  {
   "cell_type": "code",
   "execution_count": null,
   "metadata": {},
   "outputs": [],
   "source": []
  }
 ],
 "metadata": {
  "kernelspec": {
   "display_name": "Python 3",
   "language": "python",
   "name": "python3"
  },
  "language_info": {
   "codemirror_mode": {
    "name": "ipython",
    "version": 3
   },
   "file_extension": ".py",
   "mimetype": "text/x-python",
   "name": "python",
   "nbconvert_exporter": "python",
   "pygments_lexer": "ipython3",
   "version": "3.7.6"
  }
 },
 "nbformat": 4,
 "nbformat_minor": 4
}
