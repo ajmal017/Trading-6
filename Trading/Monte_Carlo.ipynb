{
 "cells": [
  {
   "cell_type": "code",
   "execution_count": 1,
   "metadata": {},
   "outputs": [],
   "source": [
    "import numpy as np\n",
    "import scipy as scp\n",
    "import scipy.stats as ss\n",
    "from scipy.integrate import quad\n",
    "from functools import partial\n",
    "import yfinance as yf\n",
    "import matplotlib.pyplot as plt\n",
    "%matplotlib inline\n",
    "from datetime import datetime\n",
    "from datetime import date\n",
    "now = datetime.today().strftime('%Y:%m:%d')\n",
    "d1 = datetime.strptime(now, '%Y:%m:%d')\n",
    "stk = yf.Ticker(\"MSFT\")\n",
    "expiry = stk.options[6]         #expiry date choice\n",
    "opt = stk.option_chain(expiry)  #selecting that option based on expiry date                         \n",
    "low = opt.calls.iloc[10]          #selecting specific call\n",
    "low1 = opt.puts.iloc[10]          #selecting specific put\n",
    "d2 = datetime.strptime(expiry, '%Y-%m-%d')\n",
    "diff = (d2 - d1).days\n",
    "S0 = stk.info['open']\n",
    "K= low.loc['strike']    # strike\n",
    "T= diff/365      # maturity \n",
    "r= 0.011       # risk free rate \n",
    "sig = low.loc['impliedVolatility'] "
   ]
  },
  {
   "cell_type": "code",
   "execution_count": 3,
   "metadata": {},
   "outputs": [
    {
     "name": "stdout",
     "output_type": "stream",
     "text": [
      "Call price: 10.493155277490384, with error: 0.005401560123135842\n",
      "Put price: 11.593490705697974, with error: 0.00483595724265883\n"
     ]
    }
   ],
   "source": [
    "np.random.seed(seed=44)  # seed for random number generation\n",
    "N = 10000000  # Number of random variables\n",
    "\n",
    "W = ss.norm.rvs( (r-0.5*sig**2)*T , np.sqrt(T)*sig, N)\n",
    "S_T = S0 * np.exp(W)\n",
    "\n",
    "call = np.mean( np.exp(-r*T) * np.maximum(S_T-K,0) )\n",
    "put = np.mean( np.exp(-r*T) * np.maximum(K-S_T,0) )\n",
    "call_err = ss.sem( np.exp(-r*T) * np.maximum(S_T-K,0) )  # standard error\n",
    "put_err = ss.sem( np.exp(-r*T) * np.maximum(K-S_T,0) )   # standard error\n",
    "print(\"Call price: {}, with error: {}\".format(call, call_err))\n",
    "print(\"Put price: {}, with error: {}\".format(put, put_err))"
   ]
  },
  {
   "cell_type": "code",
   "execution_count": 4,
   "metadata": {},
   "outputs": [
    {
     "name": "stdout",
     "output_type": "stream",
     "text": [
      "Difference between model and actual (call):  0.20684472250961505\n",
      "Difference between model and actual (put):  1.6665092943020259\n"
     ]
    }
   ],
   "source": [
    "print(\"Difference between model and actual (call): \", (low.loc['lastPrice'] - call))\n",
    "print(\"Difference between model and actual (put): \", (low1.loc['lastPrice'] - put))"
   ]
  },
  {
   "cell_type": "code",
   "execution_count": null,
   "metadata": {},
   "outputs": [],
   "source": []
  }
 ],
 "metadata": {
  "kernelspec": {
   "display_name": "Python 3",
   "language": "python",
   "name": "python3"
  },
  "language_info": {
   "codemirror_mode": {
    "name": "ipython",
    "version": 3
   },
   "file_extension": ".py",
   "mimetype": "text/x-python",
   "name": "python",
   "nbconvert_exporter": "python",
   "pygments_lexer": "ipython3",
   "version": "3.7.6"
  }
 },
 "nbformat": 4,
 "nbformat_minor": 4
}
